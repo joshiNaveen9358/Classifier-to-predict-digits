{
 "cells": [
  {
   "cell_type": "markdown",
   "id": "9040811e",
   "metadata": {},
   "source": [
    "# Import Library"
   ]
  },
  {
   "cell_type": "code",
   "execution_count": 1,
   "id": "cc814ef6",
   "metadata": {},
   "outputs": [],
   "source": [
    "import pandas as pd\n",
    "import numpy as np\n",
    "import matplotlib.pyplot as plt\n",
    "from sklearn.datasets import load_digits\n",
    "from sklearn.ensemble import RandomForestClassifier\n",
    "from sklearn.model_selection import train_test_split\n",
    "from sklearn.metrics import *"
   ]
  },
  {
   "cell_type": "markdown",
   "id": "8df6e5cd",
   "metadata": {},
   "source": [
    "# Import Data"
   ]
  },
  {
   "cell_type": "code",
   "execution_count": 2,
   "id": "f72e0bea",
   "metadata": {},
   "outputs": [],
   "source": [
    "df = load_digits()"
   ]
  },
  {
   "cell_type": "markdown",
   "id": "b4bec5d3",
   "metadata": {},
   "source": [
    "# Describe Data"
   ]
  },
  {
   "cell_type": "code",
   "execution_count": 3,
   "id": "31a26f62",
   "metadata": {},
   "outputs": [
    {
     "name": "stdout",
     "output_type": "stream",
     "text": [
      "Shape of loaded inputdataset:  (1797, 8, 8)\n",
      "Shape of loaded output dataset;  (1797,)\n",
      "First input image: \n",
      " [[ 0.  0.  5. 13.  9.  1.  0.  0.]\n",
      " [ 0.  0. 13. 15. 10. 15.  5.  0.]\n",
      " [ 0.  3. 15.  2.  0. 11.  8.  0.]\n",
      " [ 0.  4. 12.  0.  0.  8.  8.  0.]\n",
      " [ 0.  5.  8.  0.  0.  9.  8.  0.]\n",
      " [ 0.  4. 11.  0.  1. 12.  7.  0.]\n",
      " [ 0.  2. 14.  5. 10. 12.  0.  0.]\n",
      " [ 0.  0.  6. 13. 10.  0.  0.  0.]]\n",
      "\n",
      "Shape of images:  (8, 8)\n",
      "\n",
      "Total no. of samples:  1797\n"
     ]
    }
   ],
   "source": [
    "print(\"Shape of loaded inputdataset: \", df.images.shape)\n",
    "print(\"Shape of loaded output dataset; \", df.target.shape)\n",
    "print(\"First input image: \\n\", df.images[0])\n",
    "\n",
    "print(\"\\nShape of images: \",df.images[0].shape)\n",
    "\n",
    "print(\"\\nTotal no. of samples: \",len(df.images))"
   ]
  },
  {
   "cell_type": "markdown",
   "id": "9f979b49",
   "metadata": {},
   "source": [
    "# Data Visualization"
   ]
  },
  {
   "cell_type": "code",
   "execution_count": 4,
   "id": "c08c7331",
   "metadata": {},
   "outputs": [
    {
     "data": {
      "image/png": "[encoded data removed]",
      "text/plain": [
       "<Figure size 1000x300 with 4 Axes>"
      ]
     },
     "metadata": {},
     "output_type": "display_data"
    }
   ],
   "source": [
    "fig, axes = plt.subplots(nrows = 1, ncols= 4, figsize=(10, 3))\n",
    "for ax, image, label in zip(axes, df.images, df.target):\n",
    "    ax.set_axis_off()\n",
    "    ax.imshow(image, cmap=plt.cm.gray_r, interpolation=\"nearest\")\n",
    "    ax.set_title(\"Training: %1d\" % label)"
   ]
  },
  {
   "cell_type": "markdown",
   "id": "7474793c",
   "metadata": {},
   "source": [
    "# Data Preprocessing"
   ]
  },
  {
   "cell_type": "code",
   "execution_count": 5,
   "id": "3d1b0e13",
   "metadata": {},
   "outputs": [
    {
     "name": "stdout",
     "output_type": "stream",
     "text": [
      "First image array: \n",
      " [ 0.  0.  5. 13.  9.  1.  0.  0.  0.  0. 13. 15. 10. 15.  5.  0.  0.  3.\n",
      " 15.  2.  0. 11.  8.  0.  0.  4. 12.  0.  0.  8.  8.  0.  0.  5.  8.  0.\n",
      "  0.  9.  8.  0.  0.  4. 11.  0.  1. 12.  7.  0.  0.  2. 14.  5. 10. 12.\n",
      "  0.  0.  0.  0.  6. 13. 10.  0.  0.  0.]\n",
      "New data shape:  (1797, 64)\n",
      "\n",
      "Minimum value from dataset:  0.0\n",
      "Maximum value from dataset:  16.0\n",
      "\n",
      "Minimum value after normalization:  0.0\n",
      "Maximum value after normalization:  1.0\n",
      "\n",
      "First image array after normalization: \n",
      " [0.     0.     0.3125 0.8125 0.5625 0.0625 0.     0.     0.     0.\n",
      " 0.8125 0.9375 0.625  0.9375 0.3125 0.     0.     0.1875 0.9375 0.125\n",
      " 0.     0.6875 0.5    0.     0.     0.25   0.75   0.     0.     0.5\n",
      " 0.5    0.     0.     0.3125 0.5    0.     0.     0.5625 0.5    0.\n",
      " 0.     0.25   0.6875 0.     0.0625 0.75   0.4375 0.     0.     0.125\n",
      " 0.875  0.3125 0.625  0.75   0.     0.     0.     0.     0.375  0.8125\n",
      " 0.625  0.     0.     0.    ]\n"
     ]
    }
   ],
   "source": [
    "# Total number of samples in n_samples\n",
    "n_samples = len(df.images)\n",
    "\n",
    "# reshaping the input images into an array\n",
    "data = df.images.reshape((n_samples, -1))\n",
    "\n",
    "print(\"First image array: \\n\",data[0])\n",
    "print(\"New data shape: \",data.shape)\n",
    "\n",
    "print(\"\\nMinimum value from dataset: \",data.min())\n",
    "print(\"Maximum value from dataset: \",data.max())\n",
    "\n",
    "# Normalization of data by dividing it from maximum value\n",
    "data = data/16\n",
    "\n",
    "print(\"\\nMinimum value after normalization: \",data.min())\n",
    "print(\"Maximum value after normalization: \",data.max())\n",
    "\n",
    "print(\"\\nFirst image array after normalization: \\n\",data[0])"
   ]
  },
  {
   "cell_type": "markdown",
   "id": "73c3a139",
   "metadata": {},
   "source": [
    "# Define Target Variable (y) and Feature Variables(X)"
   ]
  },
  {
   "cell_type": "code",
   "execution_count": 6,
   "id": "213438cc",
   "metadata": {},
   "outputs": [],
   "source": [
    "# Defining feature variable X\n",
    "X = data\n",
    "\n",
    "# Defining Targer Variable \n",
    "y = df.target"
   ]
  },
  {
   "cell_type": "markdown",
   "id": "f1c03015",
   "metadata": {},
   "source": [
    "# Train Test Split"
   ]
  },
  {
   "cell_type": "code",
   "execution_count": 7,
   "id": "7fe0327d",
   "metadata": {},
   "outputs": [
    {
     "name": "stdout",
     "output_type": "stream",
     "text": [
      "X_train.shape: (1257, 64), X_test.shape: (540, 64), y_train.shape: (1257,), y_test.shape: (540,)\n"
     ]
    }
   ],
   "source": [
    "X_train, X_test, y_train, y_test = train_test_split(X, y, test_size=0.3)\n",
    "print(f\"X_train.shape: {X_train.shape}, X_test.shape: {X_test.shape}, y_train.shape: {y_train.shape}, y_test.shape: {y_test.shape}\")"
   ]
  },
  {
   "cell_type": "markdown",
   "id": "dfc93407",
   "metadata": {},
   "source": [
    "# Modeling"
   ]
  },
  {
   "cell_type": "code",
   "execution_count": 8,
   "id": "dcb20e46",
   "metadata": {
    "scrolled": true
   },
   "outputs": [
    {
     "data": {
      "text/html": [
       "<style>#sk-container-id-1 {color: black;}#sk-container-id-1 pre{padding: 0;}#sk-container-id-1 div.sk-toggleable {background-color: white;}#sk-container-id-1 label.sk-toggleable__label {cursor: pointer;display: block;width: 100%;margin-bottom: 0;padding: 0.3em;box-sizing: border-box;text-align: center;}#sk-container-id-1 label.sk-toggleable__label-arrow:before {content: \"▸\";float: left;margin-right: 0.25em;color: #696969;}#sk-container-id-1 label.sk-toggleable__label-arrow:hover:before {color: black;}#sk-container-id-1 div.sk-estimator:hover label.sk-toggleable__label-arrow:before {color: black;}#sk-container-id-1 div.sk-toggleable__content {max-height: 0;max-width: 0;overflow: hidden;text-align: left;background-color: #f0f8ff;}#sk-container-id-1 div.sk-toggleable__content pre {margin: 0.2em;color: black;border-radius: 0.25em;background-color: #f0f8ff;}#sk-container-id-1 input.sk-toggleable__control:checked~div.sk-toggleable__content {max-height: 200px;max-width: 100%;overflow: auto;}#sk-container-id-1 input.sk-toggleable__control:checked~label.sk-toggleable__label-arrow:before {content: \"▾\";}#sk-container-id-1 div.sk-estimator input.sk-toggleable__control:checked~label.sk-toggleable__label {background-color: #d4ebff;}#sk-container-id-1 div.sk-label input.sk-toggleable__control:checked~label.sk-toggleable__label {background-color: #d4ebff;}#sk-container-id-1 input.sk-hidden--visually {border: 0;clip: rect(1px 1px 1px 1px);clip: rect(1px, 1px, 1px, 1px);height: 1px;margin: -1px;overflow: hidden;padding: 0;position: absolute;width: 1px;}#sk-container-id-1 div.sk-estimator {font-family: monospace;background-color: #f0f8ff;border: 1px dotted black;border-radius: 0.25em;box-sizing: border-box;margin-bottom: 0.5em;}#sk-container-id-1 div.sk-estimator:hover {background-color: #d4ebff;}#sk-container-id-1 div.sk-parallel-item::after {content: \"\";width: 100%;border-bottom: 1px solid gray;flex-grow: 1;}#sk-container-id-1 div.sk-label:hover label.sk-toggleable__label {background-color: #d4ebff;}#sk-container-id-1 div.sk-serial::before {content: \"\";position: absolute;border-left: 1px solid gray;box-sizing: border-box;top: 0;bottom: 0;left: 50%;z-index: 0;}#sk-container-id-1 div.sk-serial {display: flex;flex-direction: column;align-items: center;background-color: white;padding-right: 0.2em;padding-left: 0.2em;position: relative;}#sk-container-id-1 div.sk-item {position: relative;z-index: 1;}#sk-container-id-1 div.sk-parallel {display: flex;align-items: stretch;justify-content: center;background-color: white;position: relative;}#sk-container-id-1 div.sk-item::before, #sk-container-id-1 div.sk-parallel-item::before {content: \"\";position: absolute;border-left: 1px solid gray;box-sizing: border-box;top: 0;bottom: 0;left: 50%;z-index: -1;}#sk-container-id-1 div.sk-parallel-item {display: flex;flex-direction: column;z-index: 1;position: relative;background-color: white;}#sk-container-id-1 div.sk-parallel-item:first-child::after {align-self: flex-end;width: 50%;}#sk-container-id-1 div.sk-parallel-item:last-child::after {align-self: flex-start;width: 50%;}#sk-container-id-1 div.sk-parallel-item:only-child::after {width: 0;}#sk-container-id-1 div.sk-dashed-wrapped {border: 1px dashed gray;margin: 0 0.4em 0.5em 0.4em;box-sizing: border-box;padding-bottom: 0.4em;background-color: white;}#sk-container-id-1 div.sk-label label {font-family: monospace;font-weight: bold;display: inline-block;line-height: 1.2em;}#sk-container-id-1 div.sk-label-container {text-align: center;}#sk-container-id-1 div.sk-container {/* jupyter's `normalize.less` sets `[hidden] { display: none; }` but bootstrap.min.css set `[hidden] { display: none !important; }` so we also need the `!important` here to be able to override the default hidden behavior on the sphinx rendered scikit-learn.org. See: https://github.com/scikit-learn/scikit-learn/issues/21755 */display: inline-block !important;position: relative;}#sk-container-id-1 div.sk-text-repr-fallback {display: none;}</style><div id=\"sk-container-id-1\" class=\"sk-top-container\"><div class=\"sk-text-repr-fallback\"><pre>RandomForestClassifier()</pre><b>In a Jupyter environment, please rerun this cell to show the HTML representation or trust the notebook. <br />On GitHub, the HTML representation is unable to render, please try loading this page with nbviewer.org.</b></div><div class=\"sk-container\" hidden><div class=\"sk-item\"><div class=\"sk-estimator sk-toggleable\"><input class=\"sk-toggleable__control sk-hidden--visually\" id=\"sk-estimator-id-1\" type=\"checkbox\" checked><label for=\"sk-estimator-id-1\" class=\"sk-toggleable__label sk-toggleable__label-arrow\">RandomForestClassifier</label><div class=\"sk-toggleable__content\"><pre>RandomForestClassifier()</pre></div></div></div></div></div>"
      ],
      "text/plain": [
       "RandomForestClassifier()"
      ]
     },
     "execution_count": 8,
     "metadata": {},
     "output_type": "execute_result"
    }
   ],
   "source": [
    "rf = RandomForestClassifier()\n",
    "rf.fit(X_train, y_train)"
   ]
  },
  {
   "cell_type": "markdown",
   "id": "ca3846a3",
   "metadata": {},
   "source": [
    "# Prediction"
   ]
  },
  {
   "cell_type": "code",
   "execution_count": 9,
   "id": "5eec3301",
   "metadata": {},
   "outputs": [
    {
     "name": "stdout",
     "output_type": "stream",
     "text": [
      "[4 1 7 6 5 6 3 3 9 7 6 9 0 9 6 5 3 2 7 3 1 4 7 6 1 8 4 6 8 4 6 0 6 2 4 5 5\n",
      " 1 3 8 0 1 0 5 5 0 2 6 6 1 9 4 4 1 9 2 1 4 4 3 4 4 1 3 9 6 0 4 0 1 7 0 8 5\n",
      " 0 7 4 1 2 5 8 9 8 3 5 9 6 2 1 6 7 5 2 0 9 3 8 0 0 1 9 1 4 3 4 4 4 4 7 9 2\n",
      " 2 3 2 4 4 7 7 1 0 2 5 3 2 6 8 1 4 6 6 1 2 6 3 0 5 5 8 7 5 2 1 5 4 1 7 1 5\n",
      " 5 4 4 0 9 4 9 3 2 9 6 6 2 9 2 4 6 6 4 5 0 2 5 6 0 9 7 5 7 1 3 0 2 5 0 8 5\n",
      " 8 7 0 0 0 9 8 5 9 0 3 3 8 3 7 9 5 3 1 2 7 7 3 8 9 0 2 8 2 4 4 7 5 7 2 5 1\n",
      " 9 5 2 2 2 8 7 1 3 2 2 1 0 3 5 0 2 1 7 9 6 5 5 8 2 7 4 4 2 9 5 8 9 9 7 3 2\n",
      " 5 4 0 3 9 3 8 8 3 8 2 9 8 6 9 8 9 0 8 0 1 9 0 8 2 4 4 9 7 9 0 7 1 2 9 5 4\n",
      " 3 5 7 9 7 8 9 7 4 1 0 6 3 4 1 3 0 8 2 3 3 4 1 4 2 1 4 5 9 6 3 6 8 1 8 3 4\n",
      " 9 8 3 2 1 3 4 3 3 3 1 1 8 2 0 1 9 7 6 0 9 3 3 7 3 1 2 5 6 6 0 3 7 4 6 8 5\n",
      " 9 0 7 3 9 9 9 1 1 9 9 8 5 5 8 4 2 9 1 2 4 3 1 9 3 9 1 2 8 1 5 0 7 5 1 1 9\n",
      " 6 2 6 5 9 2 9 7 1 4 0 9 5 4 1 3 5 1 7 0 6 2 2 1 8 5 4 5 0 8 7 4 5 7 5 5 6\n",
      " 8 8 3 3 7 2 4 1 2 6 6 7 2 4 2 1 7 5 4 1 5 8 0 0 7 7 6 4 0 3 3 0 1 3 0 9 2\n",
      " 9 7 9 0 9 9 0 0 2 8 8 0 8 1 6 5 7 6 5 8 5 1 1 4 0 8 5 6 8 2 3 0 1 5 4 1 8\n",
      " 0 9 6 5 8 6 0 7 3 7 9 9 5 9 0 9 1 0 9 8 7 6]\n"
     ]
    }
   ],
   "source": [
    "y_pred = rf.predict(X_test)\n",
    "print(y_pred)"
   ]
  },
  {
   "cell_type": "markdown",
   "id": "fd84ebd4",
   "metadata": {},
   "source": [
    "# Model Evaluation"
   ]
  },
  {
   "cell_type": "code",
   "execution_count": 10,
   "id": "1075fd74",
   "metadata": {},
   "outputs": [
    {
     "name": "stdout",
     "output_type": "stream",
     "text": [
      "Confusion matrix:\n",
      "[[55  0  0  0  0  0  0  0  0  0]\n",
      " [ 0 56  0  0  0  0  0  0  0  0]\n",
      " [ 0  1 54  0  0  0  0  0  0  0]\n",
      " [ 0  0  0 53  0  0  0  0  0  2]\n",
      " [ 0  0  0  0 53  0  0  2  0  0]\n",
      " [ 0  0  0  0  1 55  0  0  0  3]\n",
      " [ 1  0  0  0  0  0 44  0  0  0]\n",
      " [ 0  0  0  0  1  0  0 46  0  0]\n",
      " [ 0  2  0  0  0  1  0  0 49  0]\n",
      " [ 0  1  0  0  0  2  0  0  0 58]]\n",
      "\n",
      "Accuracy: 0.9685185185185186\n",
      "\n",
      "Classification Report:\n",
      "              precision    recall  f1-score   support\n",
      "\n",
      "           0       0.98      1.00      0.99        55\n",
      "           1       0.93      1.00      0.97        56\n",
      "           2       1.00      0.98      0.99        55\n",
      "           3       1.00      0.96      0.98        55\n",
      "           4       0.96      0.96      0.96        55\n",
      "           5       0.95      0.93      0.94        59\n",
      "           6       1.00      0.98      0.99        45\n",
      "           7       0.96      0.98      0.97        47\n",
      "           8       1.00      0.94      0.97        52\n",
      "           9       0.92      0.95      0.94        61\n",
      "\n",
      "    accuracy                           0.97       540\n",
      "   macro avg       0.97      0.97      0.97       540\n",
      "weighted avg       0.97      0.97      0.97       540\n",
      "\n"
     ]
    }
   ],
   "source": [
    "cm = confusion_matrix(y_test, y_pred)\n",
    "print(\"Confusion matrix:\")\n",
    "print(cm)\n",
    "\n",
    "accuracy = accuracy_score(y_test, y_pred)\n",
    "print(f\"\\nAccuracy: {accuracy}\")\n",
    "\n",
    "report = classification_report(y_test, y_pred)\n",
    "print(\"\\nClassification Report:\")\n",
    "print(report)"
   ]
  },
  {
   "cell_type": "markdown",
   "id": "1e4ff770",
   "metadata": {},
   "source": [
    "# Loss Visualization"
   ]
  },
  {
   "cell_type": "code",
   "execution_count": 11,
   "id": "048a3b63",
   "metadata": {},
   "outputs": [
    {
     "data": {
      "image/png": "[encoded data removed]",
      "text/plain": [
       "<Figure size 800x600 with 1 Axes>"
      ]
     },
     "metadata": {},
     "output_type": "display_data"
    }
   ],
   "source": [
    "n_estimators_range = [10, 50, 100, 200, 300]\n",
    "accuracy_scores = []\n",
    "\n",
    "# Train and evaluate the model for each value of n_estimators\n",
    "for n_estimators in n_estimators_range:\n",
    "    rf = RandomForestClassifier(n_estimators=n_estimators, random_state=42)\n",
    "    rf.fit(X_train, y_train)\n",
    "    y_pred = rf.predict(X_test)\n",
    "    accuracy = accuracy_score(y_test, y_pred)\n",
    "    accuracy_scores.append(accuracy)\n",
    "\n",
    "# Create a plot to visualize the accuracy vs. n_estimators\n",
    "plt.figure(figsize=(8, 6))\n",
    "plt.plot(n_estimators_range, accuracy_scores, marker='o')\n",
    "plt.title('Random Forest Accuracy vs. Number of Trees')\n",
    "plt.xlabel('Number of Trees (n_estimators)')\n",
    "plt.ylabel('Accuracy')\n",
    "plt.grid(True)\n",
    "plt.show()"
   ]
  },
  {
   "cell_type": "markdown",
   "id": "fc264442",
   "metadata": {},
   "source": [
    "# Explaination"
   ]
  },
  {
   "cell_type": "markdown",
   "id": "737adb30",
   "metadata": {},
   "source": [
    "I've created a Random Forest Classifier to predict digits from the famous \"digits\" dataset using scikit-learn. This dataset consists of images of handwritten digits (0-9) and their corresponding labels. Here I provide you with an explanation of my code and the steps I've taken to create and evaluate the model.\n",
    "\n",
    "1 Data Loading and Exploration:\n",
    "    - I load the \"digits\" dataset using scikit-learn's load_digits() function.\n",
    "    - I print the shape of the input and output datasets to understand their dimensions.\n",
    "    - I display the first input image to get an idea of the data.\n",
    "\n",
    "2 Data Preprocessing:\n",
    "    - I check the shape of the first image and the total number of samples.\n",
    "    - I create a 2D data array by reshaping the 8x8 images into 64-dimensional vectors.\n",
    "    - I normalize the data by dividing it by 16, which scales the pixel values to the range [0, 1].\n",
    "\n",
    "3 Train-Test Split:\n",
    "    - I split the data into training and testing sets using the train_test_split function.\n",
    "\n",
    "4 Random Forest Model:\n",
    "    - I create a Random Forest Classifier (rf) and fit it to the training data (X_train, y_train).\n",
    "\n",
    "5 Model Evaluation:\n",
    "    - I make predictions on the test data using rf.predict(X_test) and store the predictions in y_pred.\n",
    "    - I compute and display a confusion matrix to understand how many true positives, true negatives, false positives, and\n",
    "    false negatives there are for each digit.\n",
    "    - I calculate the accuracy of the model using accuracy_score and print it.\n",
    "    - I generate a classification report that includes precision, recall, F1-score, and support for each digit class, and I\n",
    "    print it.\n",
    "\n",
    "6 Prediction:\n",
    "    - I make predictions on new data (X_test) using the trained model and store the results in y_pred."
   ]
  }
 ],
 "metadata": {
  "kernelspec": {
   "display_name": "Python 3 (ipykernel)",
   "language": "python",
   "name": "python3"
  },
  "language_info": {
   "codemirror_mode": {
    "name": "ipython",
    "version": 3
   },
   "file_extension": ".py",
   "mimetype": "text/x-python",
   "name": "python",
   "nbconvert_exporter": "python",
   "pygments_lexer": "ipython3",
   "version": "3.11.5"
  }
 },
 "nbformat": 4,
 "nbformat_minor": 5
}
